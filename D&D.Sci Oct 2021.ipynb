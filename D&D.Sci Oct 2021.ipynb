{
 "cells": [
  {
   "cell_type": "code",
   "execution_count": 4,
   "id": "c8a0da91",
   "metadata": {},
   "outputs": [],
   "source": [
    "from matplotlib import pyplot as plt\n",
    "import numpy as np\n",
    "import pandas as pd\n",
    "from collections import Counter\n",
    "url = \"https://raw.githubusercontent.com/aphyer1992/dndsci-4e/main/hero_league_player_log.csv\"\n",
    "df = pd.read_csv(url)\n",
    "df.columns = ['B1','B2','B3','B4','B5','G1','G2','G3','G4','G5','Result']\n",
    "url2 = \"https://raw.githubusercontent.com/aphyer1992/dndsci-4e/main/hero_league_player_log_alt.csv\"\n",
    "df2 = pd.read_csv(url2)\n",
    "df2.columns = ['AB','AG','BB','BG','CB','CG','DB','DG','EB','EG','FB','FG','GB','GG','IB','IG','LB','LG','MB','MG','NB','NG','OB','OG','PB','PG','QB','QG','RB','RG','SB','SG','TB','TG','VB','VG','WB','WG','BWin','GWin']"
   ]
  },
  {
   "cell_type": "markdown",
   "id": "53f3cfe1",
   "metadata": {},
   "source": [
    "Note the scenario refers to the 'MOBA' genre of video games. I hence assume that the two sides (Blue and Green) are symmetric, in the sense that if take two 5-character teams, the chance that one wins is independent of the side they're on. I also assume that the order from 1 to 5 in the list in 'df' also doesn't matter."
   ]
  },
  {
   "cell_type": "code",
   "execution_count": 5,
   "id": "d3345f53",
   "metadata": {},
   "outputs": [
    {
     "name": "stdout",
     "output_type": "stream",
     "text": [
      "                    B1                 B2                 B3  \\\n",
      "0       Arch-Alligator  Tidehollow Tyrant  Warrior of Winter   \n",
      "1      Phoenix Paladin     Landslide Lord      Captain Canoe   \n",
      "2       Arch-Alligator    Siren Sorceress          Blaze Boy   \n",
      "3       Arch-Alligator    Siren Sorceress         Dire Druid   \n",
      "4           Dire Druid     Landslide Lord     Greenery Giant   \n",
      "...                ...                ...                ...   \n",
      "65530   Maelstrom Mage           Fire Fox    Quartz Questant   \n",
      "65531         Oil Ooze  Tidehollow Tyrant     Maelstrom Mage   \n",
      "65532   Arch-Alligator           Fire Fox  Tidehollow Tyrant   \n",
      "65533         Fire Fox     Landslide Lord    Quartz Questant   \n",
      "65534  Siren Sorceress  Tidehollow Tyrant    Phoenix Paladin   \n",
      "\n",
      "                         B4                    B5               G1  \\\n",
      "0                  Fire Fox        Maelstrom Mage   Landslide Lord   \n",
      "1      Nullifying Nightmare     Tidehollow Tyrant   Landslide Lord   \n",
      "2           Volcano Villain              Fire Fox  Earth Elemental   \n",
      "3           Earth Elemental       Phoenix Paladin  Quartz Questant   \n",
      "4           Siren Sorceress       Quartz Questant  Earth Elemental   \n",
      "...                     ...                   ...              ...   \n",
      "65530           Inferno Imp    Rock-n-Roll Ranger      Inferno Imp   \n",
      "65531        Arch-Alligator       Siren Sorceress    Captain Canoe   \n",
      "65532       Quartz Questant        Maelstrom Mage  Siren Sorceress   \n",
      "65533            Dire Druid  Nullifying Nightmare  Volcano Villain   \n",
      "65534     Warrior of Winter         Captain Canoe  Volcano Villain   \n",
      "\n",
      "                      G2                 G3                    G4  \\\n",
      "0          Captain Canoe    Siren Sorceress        Greenery Giant   \n",
      "1         Greenery Giant     Maelstrom Mage  Nullifying Nightmare   \n",
      "2               Oil Ooze           Fire Fox       Volcano Villain   \n",
      "3      Warrior of Winter           Oil Ooze           Inferno Imp   \n",
      "4         Landslide Lord     Maelstrom Mage              Fire Fox   \n",
      "...                  ...                ...                   ...   \n",
      "65530           Fire Fox  Warrior of Winter        Maelstrom Mage   \n",
      "65531    Phoenix Paladin  Warrior of Winter        Greenery Giant   \n",
      "65532        Inferno Imp  Warrior of Winter            Dire Druid   \n",
      "65533     Greenery Giant        Inferno Imp       Siren Sorceress   \n",
      "65534     Arch-Alligator           Fire Fox              Oil Ooze   \n",
      "\n",
      "                       G5           Result  \n",
      "0          Maelstrom Mage  Green Team Wins  \n",
      "1             Inferno Imp   Blue Team Wins  \n",
      "2         Siren Sorceress  Green Team Wins  \n",
      "3          Greenery Giant  Green Team Wins  \n",
      "4      Rock-n-Roll Ranger  Green Team Wins  \n",
      "...                   ...              ...  \n",
      "65530     Volcano Villain   Blue Team Wins  \n",
      "65531   Tidehollow Tyrant   Blue Team Wins  \n",
      "65532      Arch-Alligator   Blue Team Wins  \n",
      "65533      Maelstrom Mage   Blue Team Wins  \n",
      "65534           Blaze Boy   Blue Team Wins  \n",
      "\n",
      "[65535 rows x 11 columns]\n",
      "       AB  AG  BB  BG  CB  CG  DB  DG  EB  EG  ...  SB  SG  TB  TG  VB  VG  \\\n",
      "0       1   0   0   0   0   1   0   0   0   0  ...   0   1   1   0   0   0   \n",
      "1       0   0   0   0   1   0   0   0   0   0  ...   0   0   1   0   0   0   \n",
      "2       1   0   1   0   0   0   0   0   0   1  ...   1   1   0   0   1   1   \n",
      "3       1   0   0   0   0   0   1   0   1   0  ...   1   0   0   0   0   0   \n",
      "4       0   0   0   0   0   0   1   0   0   1  ...   1   0   0   0   0   0   \n",
      "...    ..  ..  ..  ..  ..  ..  ..  ..  ..  ..  ...  ..  ..  ..  ..  ..  ..   \n",
      "65530   0   0   0   0   0   0   0   0   0   0  ...   0   0   0   0   0   1   \n",
      "65531   1   0   0   0   0   1   0   0   0   0  ...   1   0   1   1   0   0   \n",
      "65532   1   1   0   0   0   0   0   1   0   0  ...   0   1   1   0   0   0   \n",
      "65533   0   0   0   0   0   0   1   0   0   0  ...   0   1   0   0   0   1   \n",
      "65534   0   1   0   1   1   0   0   0   0   0  ...   1   0   1   0   0   1   \n",
      "\n",
      "       WB  WG  BWin  GWin  \n",
      "0       1   0     0     1  \n",
      "1       0   0     1     0  \n",
      "2       0   0     0     1  \n",
      "3       0   1     0     1  \n",
      "4       0   0     0     1  \n",
      "...    ..  ..   ...   ...  \n",
      "65530   0   1     1     0  \n",
      "65531   0   1     1     0  \n",
      "65532   0   1     1     0  \n",
      "65533   0   0     1     0  \n",
      "65534   1   0     1     0  \n",
      "\n",
      "[65535 rows x 40 columns]\n"
     ]
    }
   ],
   "source": [
    "print(df)\n",
    "print(df2)"
   ]
  },
  {
   "cell_type": "markdown",
   "id": "b6db391b",
   "metadata": {},
   "source": [
    "I need select a team to win against a specific opposing team. Let's sort the 19 characters by winrate."
   ]
  },
  {
   "cell_type": "code",
   "execution_count": 17,
   "id": "e1d3859c",
   "metadata": {},
   "outputs": [],
   "source": [
    "def getWinrate(charData):\n",
    "    charData.columns = ['BlueSide','GreenSide','BlueWin','GreenWin']\n",
    "    WL = [0,0]\n",
    "    Blue = charData[charData.BlueSide==1]\n",
    "    Green = charData[charData.GreenSide==1]\n",
    "    WL[0] = WL[0] + np.count_nonzero(Blue['BlueWin'])\n",
    "    WL[0] = WL[0] + np.count_nonzero(Green['GreenWin'])\n",
    "    WL[1] = WL[1] + np.count_nonzero(Blue['GreenWin'])\n",
    "    WL[1] = WL[1] + np.count_nonzero(Green['BlueWin'])\n",
    "    return WL[0]/(WL[0]+WL[1])"
   ]
  },
  {
   "cell_type": "code",
   "execution_count": 16,
   "id": "3032805a",
   "metadata": {},
   "outputs": [
    {
     "name": "stdout",
     "output_type": "stream",
     "text": [
      "[18391, 21113]\n"
     ]
    }
   ],
   "source": [
    "print(AWinLoss)"
   ]
  },
  {
   "cell_type": "code",
   "execution_count": 18,
   "id": "80880175",
   "metadata": {},
   "outputs": [],
   "source": [
    "#Could use ASCII nonsense to do this inside a for loop, but don't\n",
    "winrates = []\n",
    "\n",
    "t = df2[['AB','AG','BWin','GWin']]\n",
    "winrates.append(getWinrate(t))\n",
    "\n",
    "t = df2[['BB','BG','BWin','GWin']]\n",
    "winrates.append(getWinrate(t))\n",
    "\n",
    "t = df2[['CB','CG','BWin','GWin']]\n",
    "winrates.append(getWinrate(t))\n",
    "\n",
    "t = df2[['DB','DG','BWin','GWin']]\n",
    "winrates.append(getWinrate(t))\n",
    "\n",
    "t = df2[['EB','EG','BWin','GWin']]\n",
    "winrates.append(getWinrate(t))\n",
    "\n",
    "t = df2[['FB','FG','BWin','GWin']]\n",
    "winrates.append(getWinrate(t))\n",
    "\n",
    "t = df2[['GB','GG','BWin','GWin']]\n",
    "winrates.append(getWinrate(t))\n",
    "\n",
    "t = df2[['IB','IG','BWin','GWin']]\n",
    "winrates.append(getWinrate(t))\n",
    "\n",
    "t = df2[['LB','LG','BWin','GWin']]\n",
    "winrates.append(getWinrate(t))\n",
    "\n",
    "t = df2[['MB','MG','BWin','GWin']]\n",
    "winrates.append(getWinrate(t))\n",
    "\n",
    "t = df2[['NB','NG','BWin','GWin']]\n",
    "winrates.append(getWinrate(t))\n",
    "\n",
    "t = df2[['OB','OG','BWin','GWin']]\n",
    "winrates.append(getWinrate(t))\n",
    "\n",
    "t = df2[['PB','PG','BWin','GWin']]\n",
    "winrates.append(getWinrate(t))\n",
    "\n",
    "t = df2[['QB','QG','BWin','GWin']]\n",
    "winrates.append(getWinrate(t))\n",
    "\n",
    "t = df2[['RB','RG','BWin','GWin']]\n",
    "winrates.append(getWinrate(t))\n",
    "\n",
    "t = df2[['SB','SG','BWin','GWin']]\n",
    "winrates.append(getWinrate(t))\n",
    "\n",
    "t = df2[['TB','TG','BWin','GWin']]\n",
    "winrates.append(getWinrate(t))\n",
    "\n",
    "t = df2[['VB','VG','BWin','GWin']]\n",
    "winrates.append(getWinrate(t))\n",
    "\n",
    "t = df2[['WB','WG','BWin','GWin']]\n",
    "winrates.append(getWinrate(t))"
   ]
  },
  {
   "cell_type": "code",
   "execution_count": 19,
   "id": "390b16a3",
   "metadata": {},
   "outputs": [
    {
     "name": "stdout",
     "output_type": "stream",
     "text": [
      "[0.4655477926285946, 0.5252202783807943, 0.4421524378615473, 0.5011357405811858, 0.483217555021749, 0.4626163999638369, 0.5909001145384889, 0.4790452683274384, 0.4950328447076336, 0.46078316545639103, 0.6063478329269252, 0.451291360147766, 0.5052203433256469, 0.5226166449008667, 0.570177225504176, 0.4858294495528404, 0.5771794379975065, 0.4589167092488503, 0.5304539202200825]\n"
     ]
    }
   ],
   "source": [
    "print(winrates)"
   ]
  },
  {
   "cell_type": "code",
   "execution_count": null,
   "id": "b9f462f1",
   "metadata": {},
   "outputs": [],
   "source": []
  }
 ],
 "metadata": {
  "kernelspec": {
   "display_name": "Python 3 (ipykernel)",
   "language": "python",
   "name": "python3"
  },
  "language_info": {
   "codemirror_mode": {
    "name": "ipython",
    "version": 3
   },
   "file_extension": ".py",
   "mimetype": "text/x-python",
   "name": "python",
   "nbconvert_exporter": "python",
   "pygments_lexer": "ipython3",
   "version": "3.9.7"
  }
 },
 "nbformat": 4,
 "nbformat_minor": 5
}
