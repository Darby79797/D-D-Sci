{
 "cells": [
  {
   "cell_type": "code",
   "execution_count": 32,
   "id": "ecffcb5a",
   "metadata": {},
   "outputs": [],
   "source": [
    "from matplotlib import pyplot as plt\n",
    "import numpy as np\n",
    "import pandas as pd\n",
    "url = \"https://raw.githubusercontent.com/H-B-P/d-and-d-sci-apr/main/dset.csv\"\n",
    "df = pd.read_csv(url)\n",
    "df.columns = ['damage','direction','encounter','month']"
   ]
  },
  {
   "cell_type": "markdown",
   "id": "1d6bb48e",
   "metadata": {},
   "source": [
    "A solution to the April 2021 edition of D&D.Sci  \n",
    "(https://www.lesswrong.com/posts/S3LKfRtYxhjXyWHgN/d-and-d-sci-april-2021-voyages-of-the-gray-swan)"
   ]
  },
  {
   "cell_type": "code",
   "execution_count": 38,
   "id": "e11bb42b",
   "metadata": {},
   "outputs": [
    {
     "name": "stdout",
     "output_type": "stream",
     "text": [
      "       damage   direction        encounter    month\n",
      "0        35.0  southbound     crabmonsters   1/1396\n",
      "1        49.0  southbound           kraken   1/1396\n",
      "2        52.0  northbound          pirates   1/1396\n",
      "3        18.0  southbound          pirates   1/1396\n",
      "4        51.0  northbound        merpeople   1/1396\n",
      "...       ...         ...              ...      ...\n",
      "21790    17.0  northbound          pirates  12/1405\n",
      "21791    77.0  northbound  water elemental  12/1405\n",
      "21792    47.0  southbound          pirates  12/1405\n",
      "21793    17.0  northbound          pirates  12/1405\n",
      "21794    79.0  northbound  water elemental  12/1405\n",
      "\n",
      "[21795 rows x 4 columns]\n"
     ]
    }
   ],
   "source": [
    "print(df)"
   ]
  },
  {
   "cell_type": "code",
   "execution_count": 35,
   "id": "b3ee8bbf",
   "metadata": {},
   "outputs": [],
   "source": [
    "df['damage'] = df['damage'].str.rstrip(\"%+\").astype(float)"
   ]
  },
  {
   "cell_type": "code",
   "execution_count": 10,
   "id": "6b2c36ed",
   "metadata": {},
   "outputs": [
    {
     "data": {
      "text/plain": [
       "encounter      \n",
       "pirates            0.252627\n",
       "sharks             0.154806\n",
       "merpeople          0.122872\n",
       "unknown            0.108603\n",
       "kraken             0.091994\n",
       "water elemental    0.090801\n",
       "harpy              0.071438\n",
       "crabmonsters       0.047763\n",
       "nessie             0.043909\n",
       "demon whale        0.015187\n",
       "dtype: float64"
      ]
     },
     "execution_count": 10,
     "metadata": {},
     "output_type": "execute_result"
    }
   ],
   "source": [
    "enc = df[['encounter']]\n",
    "enc.value_counts(normalize=True)"
   ]
  },
  {
   "cell_type": "markdown",
   "id": "c912e6fe",
   "metadata": {},
   "source": [
    "Now, I plot a bar graph of frequencies of damage for all encounters, and estimate how big the tail extending past 100% is."
   ]
  },
  {
   "cell_type": "code",
   "execution_count": 40,
   "id": "520c0a45",
   "metadata": {},
   "outputs": [
    {
     "name": "stdout",
     "output_type": "stream",
     "text": [
      "       damage   direction encounter    month\n",
      "2        52.0  northbound   pirates   1/1396\n",
      "3        18.0  southbound   pirates   1/1396\n",
      "6        57.0  southbound   pirates   1/1396\n",
      "10       18.0  southbound   pirates   1/1396\n",
      "11       16.0  southbound   pirates   1/1396\n",
      "...       ...         ...       ...      ...\n",
      "21780    47.0  northbound   pirates  12/1405\n",
      "21782    10.0  southbound   pirates  12/1405\n",
      "21790    17.0  northbound   pirates  12/1405\n",
      "21792    47.0  southbound   pirates  12/1405\n",
      "21793    17.0  northbound   pirates  12/1405\n",
      "\n",
      "[5506 rows x 4 columns]\n"
     ]
    }
   ],
   "source": [
    "pir = df[df.encounter == 'pirates']"
   ]
  },
  {
   "cell_type": "code",
   "execution_count": 45,
   "id": "69cf952b",
   "metadata": {},
   "outputs": [
    {
     "data": {
      "text/plain": [
       "<AxesSubplot:ylabel='Frequency'>"
      ]
     },
     "execution_count": 45,
     "metadata": {},
     "output_type": "execute_result"
    },
    {
     "data": {
      "image/png": "[encoded data removed]",
      "text/plain": [
       "<Figure size 432x288 with 1 Axes>"
      ]
     },
     "metadata": {
      "needs_background": "light"
     },
     "output_type": "display_data"
    }
   ],
   "source": [
    "pir['damage'].plot.hist(bins=range(100))"
   ]
  },
  {
   "cell_type": "markdown",
   "id": "8e0b4788",
   "metadata": {},
   "source": [
    "Pirates can be ignored (although there are clearly two varieties of pirate not distinguished in the records)"
   ]
  },
  {
   "cell_type": "code",
   "execution_count": 46,
   "id": "2d6475b2",
   "metadata": {},
   "outputs": [
    {
     "data": {
      "text/plain": [
       "<AxesSubplot:ylabel='Frequency'>"
      ]
     },
     "execution_count": 46,
     "metadata": {},
     "output_type": "execute_result"
    },
    {
     "data": {
      "image/png": "[encoded data removed]",
      "text/plain": [
       "<Figure size 432x288 with 1 Axes>"
      ]
     },
     "metadata": {
      "needs_background": "light"
     },
     "output_type": "display_data"
    }
   ],
   "source": [
    "sha = df[df.encounter == 'sharks']\n",
    "sha['damage'].plot.hist(bins=range(100))"
   ]
  },
  {
   "cell_type": "markdown",
   "id": "d35f4a6c",
   "metadata": {},
   "source": [
    "Sharks can be ignored. Indeed, given that we always get precisely one encounter, shark repellent is actively bad"
   ]
  },
  {
   "cell_type": "code",
   "execution_count": 47,
   "id": "18453c23",
   "metadata": {},
   "outputs": [
    {
     "data": {
      "text/plain": [
       "<AxesSubplot:ylabel='Frequency'>"
      ]
     },
     "execution_count": 47,
     "metadata": {},
     "output_type": "execute_result"
    },
    {
     "data": {
      "image/png": "[encoded data removed]",
      "text/plain": [
       "<Figure size 432x288 with 1 Axes>"
      ]
     },
     "metadata": {
      "needs_background": "light"
     },
     "output_type": "display_data"
    }
   ],
   "source": [
    "mer = df[df.encounter == 'merpeople']\n",
    "mer['damage'].plot.hist(bins=range(100))"
   ]
  },
  {
   "cell_type": "markdown",
   "id": "fbafb2bb",
   "metadata": {},
   "source": [
    "Merpeople are a problem; only method of dealing with them is merfolk repellent for 45g. Merfolk are less of a problem if the visible distribution is vaguely normalish, with weird noise/effects making it a bit jumbly, but much more of a problem if there are (like pirates) two types of merfolk, one of which actualls kills us a lot."
   ]
  },
  {
   "cell_type": "code",
   "execution_count": 48,
   "id": "042bd31d",
   "metadata": {},
   "outputs": [
    {
     "data": {
      "text/plain": [
       "<AxesSubplot:ylabel='Frequency'>"
      ]
     },
     "execution_count": 48,
     "metadata": {},
     "output_type": "execute_result"
    },
    {
     "data": {
      "image/png": "[encoded data removed]",
      "text/plain": [
       "<Figure size 432x288 with 1 Axes>"
      ]
     },
     "metadata": {
      "needs_background": "light"
     },
     "output_type": "display_data"
    }
   ],
   "source": [
    "kra = df[df.encounter == 'kraken']\n",
    "kra['damage'].plot.hist(bins=range(100))"
   ]
  },
  {
   "cell_type": "markdown",
   "id": "1cd82fde",
   "metadata": {},
   "source": [
    "Kraken don't seem to kill ships too."
   ]
  },
  {
   "cell_type": "code",
   "execution_count": 49,
   "id": "4b8cbeae",
   "metadata": {},
   "outputs": [
    {
     "data": {
      "text/plain": [
       "<AxesSubplot:ylabel='Frequency'>"
      ]
     },
     "execution_count": 49,
     "metadata": {},
     "output_type": "execute_result"
    },
    {
     "data": {
      "image/png": "[encoded data removed]",
      "text/plain": [
       "<Figure size 432x288 with 1 Axes>"
      ]
     },
     "metadata": {
      "needs_background": "light"
     },
     "output_type": "display_data"
    }
   ],
   "source": [
    "wat = df[df.encounter == 'water elemental']\n",
    "wat['damage'].plot.hist(bins=range(100))"
   ]
  },
  {
   "cell_type": "markdown",
   "id": "e9438482",
   "metadata": {},
   "source": [
    "Water elementals deal ~80 damage; not enough to kill the ship, so by the 1 encounter per journey rule, they are good. However, with 15g spare, giant foam swords would reduce expected damage signifcantly."
   ]
  },
  {
   "cell_type": "code",
   "execution_count": 50,
   "id": "dfc55333",
   "metadata": {},
   "outputs": [
    {
     "data": {
      "text/plain": [
       "<AxesSubplot:ylabel='Frequency'>"
      ]
     },
     "execution_count": 50,
     "metadata": {},
     "output_type": "execute_result"
    },
    {
     "data": {
      "image/png": "[encoded data removed]",
      "text/plain": [
       "<Figure size 432x288 with 1 Axes>"
      ]
     },
     "metadata": {
      "needs_background": "light"
     },
     "output_type": "display_data"
    }
   ],
   "source": [
    "har = df[df.encounter == 'harpy']\n",
    "har['damage'].plot.hist(bins=range(100))"
   ]
  },
  {
   "cell_type": "markdown",
   "id": "a8c0d01e",
   "metadata": {},
   "source": [
    "Harpies are trivial."
   ]
  },
  {
   "cell_type": "code",
   "execution_count": 52,
   "id": "48b663f7",
   "metadata": {},
   "outputs": [
    {
     "data": {
      "text/plain": [
       "<AxesSubplot:ylabel='Frequency'>"
      ]
     },
     "execution_count": 52,
     "metadata": {},
     "output_type": "execute_result"
    },
    {
     "data": {
      "image/png": "[encoded data removed]",
      "text/plain": [
       "<Figure size 432x288 with 1 Axes>"
      ]
     },
     "metadata": {
      "needs_background": "light"
     },
     "output_type": "display_data"
    }
   ],
   "source": [
    "cra = df[df.encounter == 'crabmonsters']\n",
    "cra['damage'].plot.hist(bins=range(100))"
   ]
  },
  {
   "cell_type": "markdown",
   "id": "63b32f47",
   "metadata": {},
   "source": [
    "Again, this distribution actually reaches 100 damage, and has the potential for a very long tail; anti-crab gear only costs 20g, and seems very effective."
   ]
  },
  {
   "cell_type": "code",
   "execution_count": 54,
   "id": "7dbc81f2",
   "metadata": {},
   "outputs": [
    {
     "data": {
      "text/plain": [
       "<AxesSubplot:ylabel='Frequency'>"
      ]
     },
     "execution_count": 54,
     "metadata": {},
     "output_type": "execute_result"
    },
    {
     "data": {
      "image/png": "[encoded data removed]",
      "text/plain": [
       "<Figure size 432x288 with 1 Axes>"
      ]
     },
     "metadata": {
      "needs_background": "light"
     },
     "output_type": "display_data"
    }
   ],
   "source": [
    "nes = df[df.encounter == 'nessie']\n",
    "nes['damage'].plot.hist(bins=range(100))"
   ]
  },
  {
   "cell_type": "markdown",
   "id": "b0bcf740",
   "metadata": {},
   "source": [
    "Looks valuely normal, with mean ~85 and std. dev 7; this would indicate about 2.5% of nessie attacks sink a ship. Could improve average damage taken with a cannon (which also hits pirates)."
   ]
  },
  {
   "cell_type": "code",
   "execution_count": 56,
   "id": "ba282f4f",
   "metadata": {},
   "outputs": [
    {
     "data": {
      "text/plain": [
       "<AxesSubplot:ylabel='Frequency'>"
      ]
     },
     "execution_count": 56,
     "metadata": {},
     "output_type": "execute_result"
    },
    {
     "data": {
      "image/png": "[encoded data removed]",
      "text/plain": [
       "<Figure size 432x288 with 1 Axes>"
      ]
     },
     "metadata": {
      "needs_background": "light"
     },
     "output_type": "display_data"
    }
   ],
   "source": [
    "wal = df[df.encounter == 'demon whale']\n",
    "wal['damage'].plot.hist(bins=range(100))"
   ]
  },
  {
   "cell_type": "markdown",
   "id": "c28e96c4",
   "metadata": {},
   "source": [
    "Oh dear. These are terrifying. I need to estimate what amount of the ~10% of sunk ships encounter which things. I have <1% Nessie and Merfolk, and <2% Crab, so >6% (and probably more) are Demon Whales, which are the things that actually sink most ships that sink.\n",
    "\n",
    "I buy all of the oars to outrun demon whales, spending 20g this way."
   ]
  },
  {
   "cell_type": "markdown",
   "id": "7c840303",
   "metadata": {},
   "source": [
    "Now, since I don't want to do more detailed data analysis (eyeballing graphs will do), I now have a decision to make: will Merfolk repellant help - they reduce the probabilty of a Merfolk encounter to 0, but raise the probability of having another encounter (i.e. demon whales).\n",
    "\n",
    "I declare Merfolk repellant \"probably worth it\", and spend 45g on that, along with 20g more on anti-crab swords.\n",
    "\n",
    "With the remaining 15g, I buy 1 cannon to increase odds of survival on finding a Nessie. Done"
   ]
  },
  {
   "cell_type": "code",
   "execution_count": null,
   "id": "8ea2e761",
   "metadata": {},
   "outputs": [],
   "source": []
  }
 ],
 "metadata": {
  "kernelspec": {
   "display_name": "Python 3 (ipykernel)",
   "language": "python",
   "name": "python3"
  },
  "language_info": {
   "codemirror_mode": {
    "name": "ipython",
    "version": 3
   },
   "file_extension": ".py",
   "mimetype": "text/x-python",
   "name": "python",
   "nbconvert_exporter": "python",
   "pygments_lexer": "ipython3",
   "version": "3.9.7"
  }
 },
 "nbformat": 4,
 "nbformat_minor": 5
}
